{
 "cells": [
  {
   "cell_type": "code",
   "execution_count": 1,
   "metadata": {},
   "outputs": [
    {
     "name": "stderr",
     "output_type": "stream",
     "text": [
      "Using TensorFlow backend.\n"
     ]
    }
   ],
   "source": [
    "import gensim.models.keyedvectors as word2vec\n",
    "from pycocotools.coco import COCO\n",
    "from scipy.spatial import distance\n",
    "import numpy as np\n",
    "import os\n",
    "import pickle\n",
    "import time\n",
    "\n",
    "from src.features import calc_testing_image_features"
   ]
  },
  {
   "cell_type": "code",
   "execution_count": 6,
   "metadata": {},
   "outputs": [
    {
     "name": "stdout",
     "output_type": "stream",
     "text": [
      "loading annotations into memory...\n",
      "Done (t=9.34s)\n",
      "creating index...\n",
      "index created!\n"
     ]
    }
   ],
   "source": [
    "coco2014_dir = '/archive/MyHome/Programs/git/my_research/dataset/coco_2014/'\n",
    "# 타겟 데이터에 따라 경로 수정\n",
    "annFile = os.path.join(coco2014_dir, 'annotations/instances_train2014.json')\n",
    "\n",
    "coco2014_dir_train = os.path.join(coco2014_dir, 'train2014')\n",
    "coco2014_dir_val = os.path.join(coco2014_dir, 'val2014')\n",
    "# coco2014_dir_test = os.path.join(coco2014_dir, 'test2014')\n",
    "\n",
    "coco_data = COCO(annFile)\n",
    "ids = coco_data.getAnnIds()\n",
    "annotations = coco_data.loadAnns(ids)\n"
   ]
  },
  {
   "cell_type": "code",
   "execution_count": 7,
   "metadata": {},
   "outputs": [
    {
     "name": "stdout",
     "output_type": "stream",
     "text": [
      "Testing: get embedding of all possible tags\n",
      "Testing: get all different image ids\n",
      "Testing: number of images = 82081\n"
     ]
    },
    {
     "ename": "KeyError",
     "evalue": "262284",
     "output_type": "error",
     "traceback": [
      "\u001b[0;31m---------------------------------------------------------------------------\u001b[0m",
      "\u001b[0;31mKeyError\u001b[0m                                  Traceback (most recent call last)",
      "\u001b[0;32m<ipython-input-7-3904cd661637>\u001b[0m in \u001b[0;36m<module>\u001b[0;34m\u001b[0m\n\u001b[1;32m     24\u001b[0m \u001b[0mprint\u001b[0m\u001b[0;34m(\u001b[0m\u001b[0;34m'Testing: number of images = {}'\u001b[0m\u001b[0;34m.\u001b[0m\u001b[0mformat\u001b[0m\u001b[0;34m(\u001b[0m\u001b[0mN_TEST\u001b[0m\u001b[0;34m)\u001b[0m\u001b[0;34m)\u001b[0m\u001b[0;34m\u001b[0m\u001b[0;34m\u001b[0m\u001b[0m\n\u001b[1;32m     25\u001b[0m \u001b[0;34m\u001b[0m\u001b[0m\n\u001b[0;32m---> 26\u001b[0;31m \u001b[0mprint\u001b[0m\u001b[0;34m(\u001b[0m\u001b[0mimg_info\u001b[0m\u001b[0;34m[\u001b[0m\u001b[0;36m262284\u001b[0m\u001b[0;34m]\u001b[0m\u001b[0;34m)\u001b[0m\u001b[0;34m\u001b[0m\u001b[0;34m\u001b[0m\u001b[0m\n\u001b[0m\u001b[1;32m     27\u001b[0m \"\"\"\n\u001b[1;32m     28\u001b[0m \u001b[0;32mif\u001b[0m \u001b[0;32mnot\u001b[0m \u001b[0mos\u001b[0m\u001b[0;34m.\u001b[0m\u001b[0mpath\u001b[0m\u001b[0;34m.\u001b[0m\u001b[0misfile\u001b[0m\u001b[0;34m(\u001b[0m\u001b[0;34m'test_features.npz'\u001b[0m\u001b[0;34m)\u001b[0m\u001b[0;34m:\u001b[0m\u001b[0;34m\u001b[0m\u001b[0;34m\u001b[0m\u001b[0m\n",
      "\u001b[0;31mKeyError\u001b[0m: 262284"
     ]
    }
   ],
   "source": [
    "projections = np.load('features/projections.npz', allow_pickle=True)\n",
    "pca = projections['pca'].item()\n",
    "W_img = projections['W_img']\n",
    "W_tag = projections['W_tag']\n",
    "\n",
    "possible_tags = pickle.load(open('features/possible_tags.pkl', 'rb'))\n",
    "\n",
    "model = word2vec.KeyedVectors.load_word2vec_format('features/text8_w2v_features/text.model.bin', binary=True)\n",
    "tags = []\n",
    "tag_features_list = []\n",
    "print('Testing: get embedding of all possible tags')\n",
    "for tag in possible_tags:\n",
    "    tags.append(tag)\n",
    "    tag_features_list.append(model[tag])\n",
    "N_TAGS = len(tags)\n",
    "\n",
    "img_info = {}\n",
    "print('Testing: get all different image ids') \n",
    "for ann in annotations:\n",
    "    image_id = ann['image_id']\n",
    "    if image_id not in img_info:\n",
    "        img_info[image_id] = coco_data.imgs[image_id]\n",
    "N_TEST = len(img_info)\n",
    "print('Testing: number of images = {}'.format(N_TEST))\n",
    "\n",
    "if not os.path.isfile('test_features.npz'):\n",
    "    # 타겟 데이터에 따라 디렉토리 수정\n",
    "    img_ids, img_features = calc_testing_image_features(img_info, pca, W_img, coco2014_dir_val) \n",
    "else:\n",
    "    test_features = np.load('test_features.npz')\n",
    "    img_ids = test_features['img_ids']\n",
    "    img_features = test_features['img_features']\n",
    "    \n",
    "\n",
    "print(\"Finish extracting test features\")\n",
    "W_tag = projections['W_tag']\n",
    "\n",
    "N_RESULTS = 5\n",
    "f = open('i2t_results.txt', 'w')\n",
    "pos = 0\n",
    "print('Testing: prediction')\n",
    "start = time.time()\n",
    "for image_id in img_ids:\n",
    "    v_img = img_features[pos]\n",
    "    scores = np.zeros(N_TAGS)\n",
    "    for i in range(N_TAGS):\n",
    "        tag_features = tag_features_list[i]\n",
    "        v_tag = np.dot(tag_features, W_tag)\n",
    "        scores[i] = distance.euclidean(v_img, v_tag)\n",
    "\n",
    "    index = np.argsort(scores)\n",
    "    info = img_info[image_id]\n",
    "    f.write(info['flickr_url'] + ' ' + info['coco_url'] + '\\n')\n",
    "    for i in range(N_RESULTS):\n",
    "        ind = index[i]\n",
    "        f.write(tags[ind] + ', ')\n",
    "    f.write('\\n')\n",
    "\n",
    "    pos += 1\n",
    "    \n",
    "end = time.time()\n",
    "print('Time: {}'.format((end - start) / 60))\n"
   ]
  },
  {
   "cell_type": "code",
   "execution_count": null,
   "metadata": {},
   "outputs": [],
   "source": []
  },
  {
   "cell_type": "code",
   "execution_count": null,
   "metadata": {},
   "outputs": [],
   "source": []
  }
 ],
 "metadata": {
  "kernelspec": {
   "display_name": "Python 3",
   "language": "python",
   "name": "python3"
  },
  "language_info": {
   "codemirror_mode": {
    "name": "ipython",
    "version": 3
   },
   "file_extension": ".py",
   "mimetype": "text/x-python",
   "name": "python",
   "nbconvert_exporter": "python",
   "pygments_lexer": "ipython3",
   "version": "3.6.9"
  }
 },
 "nbformat": 4,
 "nbformat_minor": 4
}
