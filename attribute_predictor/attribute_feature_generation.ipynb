{
 "cells": [
  {
   "cell_type": "code",
   "execution_count": 1,
   "metadata": {},
   "outputs": [
    {
     "name": "stderr",
     "output_type": "stream",
     "text": [
      "Using TensorFlow backend.\n",
      "/archive/MyHome/library/conda3/envs/cs470/lib/python3.6/site-packages/sklearn/externals/joblib/__init__.py:15: DeprecationWarning: sklearn.externals.joblib is deprecated in 0.21 and will be removed in 0.23. Please import this functionality directly from joblib, which can be installed with: pip install joblib. If this warning is raised when loading pickled models, you may need to re-serialize those models with scikit-learn 0.21+.\n",
      "  warnings.warn(msg, category=DeprecationWarning)\n"
     ]
    }
   ],
   "source": [
    "from pycocotools.coco import COCO\n",
    "import argparse\n",
    "import os\n",
    "\n",
    "from src.load_word2vec import load_wv\n",
    "from src.preprocess import *\n",
    "from src.pca_cca import make_projections"
   ]
  },
  {
   "cell_type": "markdown",
   "metadata": {},
   "source": [
    "First, load word2vec and save it as `text.model.bin`.\n",
    "To do this, we have to download the 'text8'.\n",
    "- wget http://mattmahoney.net/dc/text8.zip\n",
    "- apt-get install -y unzip\n",
    "- unzip text8.zip\n",
    "\n",
    "Then, call below function in load_word2vec.py"
   ]
  },
  {
   "cell_type": "code",
   "execution_count": null,
   "metadata": {},
   "outputs": [],
   "source": [
    "load_wv()"
   ]
  },
  {
   "cell_type": "markdown",
   "metadata": {},
   "source": [
    "Next, we should extract features from coco_2014 training images"
   ]
  },
  {
   "cell_type": "code",
   "execution_count": 4,
   "metadata": {},
   "outputs": [
    {
     "name": "stdout",
     "output_type": "stream",
     "text": [
      "loading annotations into memory...\n",
      "Done (t=1.59s)\n",
      "creating index...\n"
     ]
    },
    {
     "name": "stderr",
     "output_type": "stream",
     "text": [
      "  0% |                                                                        |\r"
     ]
    },
    {
     "name": "stdout",
     "output_type": "stream",
     "text": [
      "index created!\n",
      "Count word frequencies, number of annotations = 414113\n"
     ]
    },
    {
     "name": "stderr",
     "output_type": "stream",
     "text": [
      "100% |########################################################################|\n"
     ]
    },
    {
     "name": "stdout",
     "output_type": "stream",
     "text": [
      "Training: number of images = 82783\n"
     ]
    },
    {
     "name": "stderr",
     "output_type": "stream",
     "text": [
      "  0% |                                                                        |\r"
     ]
    },
    {
     "name": "stdout",
     "output_type": "stream",
     "text": [
      "Tags per image 2\n",
      "Training: calculate image features, choose tag for each image\n"
     ]
    },
    {
     "name": "stderr",
     "output_type": "stream",
     "text": [
      " 24% |#################                                                       |\r"
     ]
    },
    {
     "name": "stdout",
     "output_type": "stream",
     "text": [
      "Training: saving features calculated for the first 20000 images\n"
     ]
    },
    {
     "name": "stderr",
     "output_type": "stream",
     "text": [
      " 48% |##################################                                      |\r"
     ]
    },
    {
     "name": "stdout",
     "output_type": "stream",
     "text": [
      "Training: saving features calculated for the first 40000 images\n"
     ]
    },
    {
     "name": "stderr",
     "output_type": "stream",
     "text": [
      " 72% |###################################################                     |\r"
     ]
    },
    {
     "name": "stdout",
     "output_type": "stream",
     "text": [
      "Training: saving features calculated for the first 60000 images\n"
     ]
    },
    {
     "name": "stderr",
     "output_type": "stream",
     "text": [
      " 96% |#####################################################################   |\r"
     ]
    },
    {
     "name": "stdout",
     "output_type": "stream",
     "text": [
      "Training: saving features calculated for the first 80000 images\n"
     ]
    },
    {
     "name": "stderr",
     "output_type": "stream",
     "text": [
      "100% |########################################################################|\n"
     ]
    },
    {
     "name": "stdout",
     "output_type": "stream",
     "text": [
      "Training: saving features calculated for all the images\n",
      "Training: number of possible tags = 1753\n"
     ]
    }
   ],
   "source": [
    "coco2014_dir = '/archive/MyHome/Programs/git/my_research/dataset/coco_2014/'\n",
    "annFile = os.path.join(coco2014_dir, 'annotations/captions_train2014.json')\n",
    "coco_train = COCO(annFile)\n",
    "ids = coco_train.getAnnIds()\n",
    "annotations = coco_train.loadAnns(ids)\n",
    "\n",
    "img_count, img_captions = count_words(annotations=annotations)\n",
    "calc_features(coco_train, img_count, img_captions, 2)"
   ]
  },
  {
   "cell_type": "markdown",
   "metadata": {},
   "source": [
    "With the traiing features for images and tags, we calculate the "
   ]
  },
  {
   "cell_type": "code",
   "execution_count": 2,
   "metadata": {},
   "outputs": [
    {
     "name": "stdout",
     "output_type": "stream",
     "text": [
      "Loading features file\n",
      "Training: PCA of image features, N_PCA = 165566\n",
      "Time: 6.008816123008728\n",
      "Apply PCA to image features\n",
      "Time: 0.25295606851577757\n",
      "Training: fit CCA\n",
      "(165566, 500) (165566, 200)\n",
      "Calculating correlation matrices\n",
      "Solving general eigenvalue problem\n",
      "Time: 0.018736807505289714\n"
     ]
    }
   ],
   "source": [
    "make_projections()"
   ]
  },
  {
   "cell_type": "code",
   "execution_count": null,
   "metadata": {},
   "outputs": [],
   "source": []
  }
 ],
 "metadata": {
  "kernelspec": {
   "display_name": "Python 3",
   "language": "python",
   "name": "python3"
  },
  "language_info": {
   "codemirror_mode": {
    "name": "ipython",
    "version": 3
   },
   "file_extension": ".py",
   "mimetype": "text/x-python",
   "name": "python",
   "nbconvert_exporter": "python",
   "pygments_lexer": "ipython3",
   "version": "3.6.9"
  }
 },
 "nbformat": 4,
 "nbformat_minor": 4
}
