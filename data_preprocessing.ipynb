{
 "cells": [
  {
   "cell_type": "code",
   "execution_count": 1,
   "metadata": {},
   "outputs": [],
   "source": [
    "from data.create_inputs import create_input_files"
   ]
  },
  {
   "cell_type": "markdown",
   "metadata": {},
   "source": [
    "#### Data preprocessing\n",
    "Before data preprocessing, first download the bottom up image faetures so that we get hdf5 file containing the bottom up image features for train, val and test and pkl files containing training and validation image IDs mapping to index in hdf5 dataset created above. To do this, run the tsv.py in bottom_up_features folder and mode files to preprocessed_data folder.\n",
    "\n",
    "**_You have to run tsv.py in Python 2 environment_**\n",
    "\n",
    "Then execute below cell to get json files to be used in training and evaluation"
   ]
  },
  {
   "cell_type": "code",
   "execution_count": 2,
   "metadata": {},
   "outputs": [
    {
     "name": "stderr",
     "output_type": "stream",
     "text": [
      "100%|██████████| 112293/112293 [00:00<00:00, 178873.79it/s]\n",
      "100%|██████████| 4948/4948 [00:00<00:00, 574600.37it/s]\n",
      "100%|██████████| 4952/4952 [00:00<00:00, 590868.04it/s]\n",
      "100%|██████████| 112293/112293 [00:04<00:00, 25669.90it/s]\n",
      "100%|██████████| 4948/4948 [00:00<00:00, 29099.87it/s]\n",
      "100%|██████████| 4952/4952 [00:00<00:00, 28827.07it/s]\n"
     ]
    }
   ],
   "source": [
    "create_input_files(dataset='coco',\n",
    "                   karpathy_json_path='data/caption_datasets/dataset_coco.json',\n",
    "                   attribute_path='data/coco_attributes',\n",
    "                   captions_per_image=5,\n",
    "                   min_word_freq=5,\n",
    "                   pkl_folder='preprocessed_data',\n",
    "                   output_folder='preprocessed_data',\n",
    "                   max_len=50)"
   ]
  },
  {
   "cell_type": "code",
   "execution_count": null,
   "metadata": {},
   "outputs": [],
   "source": []
  }
 ],
 "metadata": {
  "kernelspec": {
   "display_name": "Python 3",
   "language": "python",
   "name": "python3"
  },
  "language_info": {
   "codemirror_mode": {
    "name": "ipython",
    "version": 3
   },
   "file_extension": ".py",
   "mimetype": "text/x-python",
   "name": "python",
   "nbconvert_exporter": "python",
   "pygments_lexer": "ipython3",
   "version": "3.6.9"
  }
 },
 "nbformat": 4,
 "nbformat_minor": 4
}
